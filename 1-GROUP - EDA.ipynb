{
 "cells": [
  {
   "cell_type": "code",
   "execution_count": 126,
   "metadata": {},
   "outputs": [],
   "source": [
    "# Python Library\n",
    "import math\n",
    "import numpy as np\n",
    "import pandas as pd\n",
    "import matplotlib.pyplot as plt\n",
    "from sklearn import datasets\n",
    "from sklearn.neighbors import KNeighborsClassifier\n",
    "from sklearn.preprocessing import LabelEncoder\n",
    "import sklearn.metrics as skm\n",
    "from sklearn import metrics\n",
    "from collections import Counter\n"
   ]
  },
  {
   "cell_type": "code",
   "execution_count": 127,
   "metadata": {},
   "outputs": [],
   "source": [
    "# Read data from csv file\n",
    "dfCSV = pd.read_csv(\"C:/Users/princ/Desktop/GROUP - EDA/Survey on Prediction to Determine Online Class Methods Using Machine Learning for Special Topics in Computer Science (CSC649) Project.csv\")\n"
   ]
  },
  {
   "cell_type": "code",
   "execution_count": 128,
   "metadata": {},
   "outputs": [],
   "source": [
    "# Data Cleaning\n",
    "dfCSV['University Name'].fillna(dfCSV['University Name'].mode()[0], inplace = True)\n",
    "dfCSV['Mode of Study'].fillna(dfCSV['Mode of Study'].mode()[0], inplace = True)\n",
    "dfCSV['Level of Study'].fillna(dfCSV['Level of Study'].mode()[0], inplace = True)\n",
    "dfCSV['Course Name'].fillna(dfCSV['Course Name'].mode()[0], inplace = True)\n",
    "dfCSV['Gender'].fillna(dfCSV['Gender'].mode()[0], inplace = True)\n",
    "dfCSV['House Area'].fillna(dfCSV['House Area'].mode()[0], inplace = True)\n",
    "dfCSV['Are you take any loan/sponsorship?'].fillna(dfCSV['Are you take any loan/sponsorship?'].mode()[0], inplace = True)\n",
    "dfCSV['Income per Month'].fillna(dfCSV['Income per Month'].mode()[0], inplace = True)\n",
    "dfCSV['Device used in doing online classes'].fillna(dfCSV['Device used in doing online classes'].mode()[0], inplace = True)\n",
    "dfCSV['Do you have any web camera?'].fillna(dfCSV['Do you have any web camera?'].mode()[0], inplace = True)\n",
    "dfCSV['Which method of online learning do you prefer?'].fillna(dfCSV['Which method of online learning do you prefer?'].mode()[0], inplace = True)\n",
    "dfCSV['Internet Access Facilities'].fillna(dfCSV['Internet Access Facilities'].mode()[0], inplace = True)\n",
    "dfCSV['Type of quota'].fillna(dfCSV['Type of quota'].mode()[0], inplace = True)\n",
    "dfCSV['Network Speed in your area'].fillna(dfCSV['Network Speed in your area'].mode()[0], inplace = True)\n",
    "dfCSV['Network Service Provider'].fillna(dfCSV['Network Service Provider'].mode()[0], inplace = True)\n",
    "dfCSV['Stability of internet connection'].fillna(dfCSV['Stability of internet connection'].mode()[0], inplace = True)\n",
    "dfCSV['Which alternative platform do you prefer in doing online classes?'].fillna(dfCSV['Which alternative platform do you prefer in doing online classes?'].mode()[0], inplace = True)\n",
    "dfCSV['How many people in your house?'].fillna(dfCSV['How many people in your house?'].mode()[0], inplace = True)\n",
    "dfCSV['Comfortability when doing online learning'].fillna(dfCSV['Comfortability when doing online learning'].mode()[0], inplace = True)\n",
    "dfCSV['Level of understanding in online learning.'].fillna(dfCSV['Level of understanding in online learning.'].mode()[0], inplace = True)\n",
    "dfCSV['Disruption level during online learning.'].fillna(dfCSV['Disruption level during online learning.'].mode()[0], inplace = True)\n"
   ]
  },
  {
   "cell_type": "code",
   "execution_count": 130,
   "metadata": {},
   "outputs": [],
   "source": [
    "# Data Transformation\n",
    "var_mod = ['Mode of Study',\n",
    "           'Level of Study',\n",
    "           'Gender',\n",
    "           'House Area',\n",
    "           'Are you take any loan/sponsorship?',\n",
    "           'Income per Month',\n",
    "           'Device used in doing online classes',\n",
    "           'Do you have any web camera?',\n",
    "           'Which method of online learning do you prefer?',\n",
    "           'Internet Access Facilities',\n",
    "           'Type of quota',\n",
    "           'Network Speed in your area',\n",
    "           'Network Service Provider',\n",
    "           'Stability of internet connection',\n",
    "           #'Which alternative platform do you prefer in doing online classes?',\n",
    "           'How many people in your house?',\n",
    "           'Comfortability when doing online learning',\n",
    "           'Level of understanding in online learning.',\n",
    "           'Disruption level during online learning.']\n",
    "\n",
    "le = LabelEncoder()\n",
    "\n",
    "for i in var_mod:\n",
    "    dfCSV[i] = le.fit_transform(dfCSV[i])\n",
    " "
   ]
  },
  {
   "cell_type": "code",
   "execution_count": 131,
   "metadata": {},
   "outputs": [],
   "source": [
    "# Data Slicing\n",
    "x1 = dfCSV.iloc[:, 2:4]\n",
    "x2 = dfCSV.iloc[:, 5:11] # 11 without Platform, 12 with Platform\n",
    "x3 = dfCSV.iloc[:, 12:17] # 12 without Platform, 13 with Platform # COMBINE x1 with x2\n",
    "x4 = dfCSV.iloc[:, 18:22]\n",
    "\n",
    "x = pd.concat([x1, x2, x3, x4], axis=1, sort=False)\n",
    "y = dfCSV.loc[:, ['Which method of online learning do you prefer?']]\n"
   ]
  },
  {
   "cell_type": "code",
   "execution_count": 135,
   "metadata": {},
   "outputs": [
    {
     "data": {
      "image/png": "[encoded data removed]",
      "text/plain": [
       "<Figure size 432x288 with 1 Axes>"
      ]
     },
     "metadata": {
      "needs_background": "light"
     },
     "output_type": "display_data"
    }
   ],
   "source": [
    "# EDA\n",
    "\n",
    "# Combine the data\n",
    "data = pd.concat([x,y], axis=1, sort=False)\n",
    "\n",
    "# Filter the data\n",
    "speedBadSynchronous = 0\n",
    "speedAverageSynchronous = 0\n",
    "speedGoodSynchronous = 0\n",
    "\n",
    "speedBadAsynchronous = 0\n",
    "speedAverageAsynchronous = 0\n",
    "speedGoodAsynchronous = 0\n",
    "\n",
    "for i in range(len(data)):\n",
    "    if data['Which method of online learning do you prefer?'][i] == 1:\n",
    "            if data['Network Speed in your area'][i] == 1:\n",
    "                speedBadSynchronous += 1\n",
    "            elif data['Network Speed in your area'][i] == 0:\n",
    "                speedAverageSynchronous += 1\n",
    "            elif data['Network Speed in your area'][i] == 2:\n",
    "                speedGoodSynchronous += 1\n",
    "    else:\n",
    "            if data['Network Speed in your area'][i] == 1:\n",
    "                speedBadAsynchronous += 1\n",
    "            elif data['Network Speed in your area'][i] == 0:\n",
    "                speedAverageAsynchronous += 1\n",
    "            elif data['Network Speed in your area'][i] == 2:\n",
    "                speedGoodAsynchronous += 1\n",
    "\n",
    "# Frequency of the variable\n",
    "numberOfStudents  = [[speedBadSynchronous, speedAverageSynchronous, speedGoodSynchronous],\n",
    "        [speedBadAsynchronous, speedAverageAsynchronous, speedGoodAsynchronous]]\n",
    "\n",
    "# Number of categories, variables\n",
    "numberOfCategories = 3 \n",
    "\n",
    "# X Axis categories\n",
    "categories = np.arange(numberOfCategories)\n",
    "\n",
    "# Draw the bar chart\n",
    "plt.bar(categories + 0.00, numberOfStudents[0], color = 'b', width = 0.25, label = 'Synchronous')\n",
    "plt.bar(categories + 0.25, numberOfStudents[1], color = 'g', width = 0.25, label = 'Asynchronous')\n",
    "\n",
    "# Fill the bar chart with information\n",
    "plt.xlabel('Network Speed')\n",
    "plt.ylabel('Number of Students')\n",
    "plt.title('Relation Between Network Speed and Method of Online Learning')\n",
    "plt.xticks(categories, ('Below than 300kbps',\n",
    "                        '301kbps to 1Mbps',\n",
    "                        'More than 1Mbps'))\n",
    "\n",
    "plt.legend()\n",
    "plt.tight_layout()\n",
    "plt.show()"
   ]
  },
  {
   "cell_type": "code",
   "execution_count": null,
   "metadata": {},
   "outputs": [],
   "source": []
  }
 ],
 "metadata": {
  "kernelspec": {
   "display_name": "Python 3",
   "language": "python",
   "name": "python3"
  },
  "language_info": {
   "codemirror_mode": {
    "name": "ipython",
    "version": 3
   },
   "file_extension": ".py",
   "mimetype": "text/x-python",
   "name": "python",
   "nbconvert_exporter": "python",
   "pygments_lexer": "ipython3",
   "version": "3.7.4"
  }
 },
 "nbformat": 4,
 "nbformat_minor": 2
}
