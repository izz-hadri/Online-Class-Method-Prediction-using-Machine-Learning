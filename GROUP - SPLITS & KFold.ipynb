{
 "cells": [
  {
   "cell_type": "code",
   "execution_count": 13,
   "metadata": {},
   "outputs": [],
   "source": [
    "# Python Library\n",
    "import math\n",
    "import numpy as np\n",
    "import pandas as pd\n",
    "import matplotlib.pyplot as plt\n",
    "from sklearn import datasets\n",
    "from sklearn.neighbors import KNeighborsClassifier\n",
    "from sklearn.preprocessing import LabelEncoder\n",
    "import sklearn.metrics as skm\n",
    "from sklearn import metrics\n",
    "from collections import Counter\n",
    "from sklearn.model_selection import train_test_split\n",
    "from sklearn.model_selection import KFold\n"
   ]
  },
  {
   "cell_type": "code",
   "execution_count": 14,
   "metadata": {},
   "outputs": [],
   "source": [
    "# Read data from csv file\n",
    "dfCSV = pd.read_csv(\"C:/Users/princ/Desktop/GROUP - EDA/Survey on Prediction to Determine Online Class Methods Using Machine Learning for Special Topics in Computer Science (CSC649) Project.csv\")\n"
   ]
  },
  {
   "cell_type": "code",
   "execution_count": 15,
   "metadata": {},
   "outputs": [],
   "source": [
    "# Data Cleaning\n",
    "dfCSV['University Name'].fillna(dfCSV['University Name'].mode()[0], inplace = True)\n",
    "dfCSV['Mode of Study'].fillna(dfCSV['Mode of Study'].mode()[0], inplace = True)\n",
    "dfCSV['Level of Study'].fillna(dfCSV['Level of Study'].mode()[0], inplace = True)\n",
    "dfCSV['Course Name'].fillna(dfCSV['Course Name'].mode()[0], inplace = True)\n",
    "dfCSV['Gender'].fillna(dfCSV['Gender'].mode()[0], inplace = True)\n",
    "dfCSV['House Area'].fillna(dfCSV['House Area'].mode()[0], inplace = True)\n",
    "dfCSV['Are you take any loan/sponsorship?'].fillna(dfCSV['Are you take any loan/sponsorship?'].mode()[0], inplace = True)\n",
    "dfCSV['Income per Month'].fillna(dfCSV['Income per Month'].mode()[0], inplace = True)\n",
    "dfCSV['Device used in doing online classes'].fillna(dfCSV['Device used in doing online classes'].mode()[0], inplace = True)\n",
    "dfCSV['Do you have any web camera?'].fillna(dfCSV['Do you have any web camera?'].mode()[0], inplace = True)\n",
    "dfCSV['Which method of online learning do you prefer?'].fillna(dfCSV['Which method of online learning do you prefer?'].mode()[0], inplace = True)\n",
    "dfCSV['Internet Access Facilities'].fillna(dfCSV['Internet Access Facilities'].mode()[0], inplace = True)\n",
    "dfCSV['Type of quota'].fillna(dfCSV['Type of quota'].mode()[0], inplace = True)\n",
    "dfCSV['Network Speed in your area'].fillna(dfCSV['Network Speed in your area'].mode()[0], inplace = True)\n",
    "dfCSV['Network Service Provider'].fillna(dfCSV['Network Service Provider'].mode()[0], inplace = True)\n",
    "dfCSV['Stability of internet connection'].fillna(dfCSV['Stability of internet connection'].mode()[0], inplace = True)\n",
    "dfCSV['Which alternative platform do you prefer in doing online classes?'].fillna(dfCSV['Which alternative platform do you prefer in doing online classes?'].mode()[0], inplace = True)\n",
    "dfCSV['How many people in your house?'].fillna(dfCSV['How many people in your house?'].mode()[0], inplace = True)\n",
    "dfCSV['Comfortability when doing online learning'].fillna(dfCSV['Comfortability when doing online learning'].mode()[0], inplace = True)\n",
    "dfCSV['Level of understanding in online learning.'].fillna(dfCSV['Level of understanding in online learning.'].mode()[0], inplace = True)\n",
    "dfCSV['Disruption level during online learning.'].fillna(dfCSV['Disruption level during online learning.'].mode()[0], inplace = True)\n"
   ]
  },
  {
   "cell_type": "code",
   "execution_count": 16,
   "metadata": {},
   "outputs": [],
   "source": [
    "# Data Transformation\n",
    "var_mod = ['Mode of Study',\n",
    "           'Level of Study',\n",
    "           'Gender',\n",
    "           'House Area',\n",
    "           'Are you take any loan/sponsorship?',\n",
    "           'Income per Month',\n",
    "           'Device used in doing online classes',\n",
    "           'Do you have any web camera?',\n",
    "           'Which method of online learning do you prefer?',\n",
    "           'Internet Access Facilities',\n",
    "           'Type of quota',\n",
    "           'Network Speed in your area',\n",
    "           'Network Service Provider',\n",
    "           'Stability of internet connection',\n",
    "           #'Which alternative platform do you prefer in doing online classes?',\n",
    "           'How many people in your house?',\n",
    "           'Comfortability when doing online learning',\n",
    "           'Level of understanding in online learning.',\n",
    "           'Disruption level during online learning.']\n",
    "\n",
    "le = LabelEncoder()\n",
    "\n",
    "for i in var_mod:\n",
    "    dfCSV[i] = le.fit_transform(dfCSV[i])\n",
    "    "
   ]
  },
  {
   "cell_type": "code",
   "execution_count": 17,
   "metadata": {},
   "outputs": [],
   "source": [
    "# Data Slicing\n",
    "x1 = dfCSV.iloc[:, 2:4]\n",
    "x2 = dfCSV.iloc[:, 5:11] # 11 without Platform, 12 with Platform\n",
    "x3 = dfCSV.iloc[:, 12:17] # 12 without Platform, 13 with Platform # COMBINE x1 with x2\n",
    "x4 = dfCSV.iloc[:, 18:22]\n",
    "\n",
    "x = pd.concat([x1, x2, x3, x4], axis=1, sort=False)\n",
    "y = dfCSV.loc[:, ['Which method of online learning do you prefer?']]\n"
   ]
  },
  {
   "cell_type": "code",
   "execution_count": 18,
   "metadata": {},
   "outputs": [],
   "source": [
    "# SPLITS\n",
    "# Ramdomize and split into train and test\n",
    "x_train, x_test, y_train, y_test = train_test_split(x, y, test_size=0.2, shuffle=True)\n",
    "\n",
    "# Concatenation\n",
    "train = pd.concat([x_train,y_train], axis=1, sort=False)\n",
    "test = pd.concat([x_test,y_test], axis=1, sort=False)\n",
    "\n",
    "# Reset the index\n",
    "train = train.reset_index(drop=True)\n",
    "test = test.reset_index(drop=True)\n",
    "\n",
    "# Convert to .csv file\n",
    "train.to_csv('train.csv')\n",
    "test.to_csv('test.csv')\n"
   ]
  },
  {
   "cell_type": "code",
   "execution_count": 19,
   "metadata": {},
   "outputs": [],
   "source": [
    "# KFold\n",
    "kf = KFold(n_splits=4) # Number of KFold\n",
    "i = 1\n",
    "\n",
    "# Split into KFold train and test .csv file\n",
    "for train_index, test_index in kf.split(train):\n",
    "    train.loc[train_index, :].to_csv(str(i)+'-trainKFold'+str(i)+'.csv')\n",
    "    train.loc[test_index, :].to_csv(str(i)+'-testKFold'+str(i)+'.csv')\n",
    "    i += 1\n",
    "    "
   ]
  },
  {
   "cell_type": "code",
   "execution_count": null,
   "metadata": {},
   "outputs": [],
   "source": []
  }
 ],
 "metadata": {
  "kernelspec": {
   "display_name": "Python 3",
   "language": "python",
   "name": "python3"
  },
  "language_info": {
   "codemirror_mode": {
    "name": "ipython",
    "version": 3
   },
   "file_extension": ".py",
   "mimetype": "text/x-python",
   "name": "python",
   "nbconvert_exporter": "python",
   "pygments_lexer": "ipython3",
   "version": "3.7.4"
  }
 },
 "nbformat": 4,
 "nbformat_minor": 2
}
